{
 "cells": [
  {
   "cell_type": "markdown",
   "metadata": {},
   "source": [
    "# Assignment 1"
   ]
  },
  {
   "cell_type": "markdown",
   "metadata": {},
   "source": [
    "# 1. Individual things\n",
    "\n",
    "The most basic component of any programming language are \"things\", also called variables or\n",
    "(in special cases) objects.\n",
    "\n",
    "The most common basic \"things\" in Python are integers, floats, strings, booleans, and\n",
    "some special objects of various types. In this assignment, we will use practice using integers, floats, and strings. Remember  that indentation can matter in Python, for this assignment all code should be all the way to the left (NOT indented at all)."
   ]
  },
  {
   "cell_type": "markdown",
   "metadata": {},
   "source": [
    "__TIP:__ To run the code in a cell quickly, press Ctrl-Enter. Or click the Run button above."
   ]
  },
  {
   "cell_type": "code",
   "execution_count": 2,
   "metadata": {},
   "outputs": [
    {
     "data": {
      "text/plain": [
       "3"
      ]
     },
     "execution_count": 2,
     "metadata": {},
     "output_type": "execute_result"
    }
   ],
   "source": [
    "# A thing, in this case a number - specifically an integer because it doesn't have a decimal point\n",
    "3"
   ]
  },
  {
   "cell_type": "code",
   "execution_count": 3,
   "metadata": {},
   "outputs": [
    {
     "name": "stdout",
     "output_type": "stream",
     "text": [
      "2\n",
      "hello\n"
     ]
    }
   ],
   "source": [
    "# Use print to show multiple things in the same cell\n",
    "# Note that you can use single or double quotes for strings\n",
    "print(2)\n",
    "print('hello')"
   ]
  },
  {
   "cell_type": "code",
   "execution_count": 4,
   "metadata": {},
   "outputs": [
    {
     "name": "stdout",
     "output_type": "stream",
     "text": [
      "2 hello True\n"
     ]
    }
   ],
   "source": [
    "# Things can be stored as variables\n",
    "a = 2\n",
    "b = 'hello'\n",
    "c = True  # This is case sensitive\n",
    "print(a, b, c)"
   ]
  },
  {
   "cell_type": "markdown",
   "metadata": {},
   "source": [
    "The following cells can be used to answer the Assignment 1 Submission Quiz:"
   ]
  },
  {
   "cell_type": "markdown",
   "metadata": {},
   "source": [
    "Exercise for Submission Quiz Question 1 and 2:"
   ]
  },
  {
   "cell_type": "code",
   "execution_count": 6,
   "metadata": {},
   "outputs": [],
   "source": [
    "# Based on the example in the previous cell, store the number 7 in a variable named x, and print it out\n",
    "\n",
    "# your code\n"
   ]
  },
  {
   "cell_type": "markdown",
   "metadata": {},
   "source": [
    "Exercise for Submission Quiz Question 3 (describe what the observed result of b means):"
   ]
  },
  {
   "cell_type": "code",
   "execution_count": 8,
   "metadata": {},
   "outputs": [
    {
     "name": "stdout",
     "output_type": "stream",
     "text": [
      "1\n"
     ]
    }
   ],
   "source": [
    "# What happens when a new variable points to a previous variable?\n",
    "a = 1\n",
    "b = a\n",
    "a = 2\n",
    "## What is b?\n",
    "print(b)\n",
    "# describe in a comment what the observed result of b means\n",
    "\n",
    "# your code"
   ]
  },
  {
   "cell_type": "markdown",
   "metadata": {},
   "source": [
    "## 2. Commands that operate on things\n",
    "\n",
    "Just storing data in variables isn't much use to us. Right away, we'd like to start performing\n",
    "operations and manipulations on data and variables.\n",
    "\n",
    "There are three very common means of performing an operation on a thing."
   ]
  },
  {
   "cell_type": "markdown",
   "metadata": {},
   "source": [
    "### 2.1 Use an operator\n",
    "\n",
    "All of the basic math operators work like you think they should for numbers. They can also\n",
    "do some useful operations on other things, like strings. There are also boolean operators that\n",
    "compare quantities and give back a `bool` variable as a result. We will learn more about boolean operators soon. "
   ]
  },
  {
   "cell_type": "code",
   "execution_count": 9,
   "metadata": {},
   "outputs": [
    {
     "name": "stdout",
     "output_type": "stream",
     "text": [
      "5\n",
      "6\n",
      "8\n",
      "0.6666666666666666\n"
     ]
    }
   ],
   "source": [
    "# Standard math operators work as expected on numbers\n",
    "a = 2\n",
    "b = 3\n",
    "print(a + b)\n",
    "print(a * b)\n",
    "print(a ** b)  # a to the power of b (a^b does something completely different!)\n",
    "print(a / b)   # Careful with dividing integers if you use Python 2"
   ]
  },
  {
   "cell_type": "code",
   "execution_count": 12,
   "metadata": {},
   "outputs": [
    {
     "name": "stdout",
     "output_type": "stream",
     "text": [
      "helloworld\n",
      "hellohellohello\n"
     ]
    }
   ],
   "source": [
    "# There are also operators for strings\n",
    "print('hello' + 'world')\n",
    "print('hello' * 3)\n",
    "#print('hello' / 3)  # You can't do this!"
   ]
  },
  {
   "cell_type": "markdown",
   "metadata": {},
   "source": [
    "Exercise for Submission Quiz Question 4 (what happens if you don't include the single quotes):"
   ]
  },
  {
   "cell_type": "code",
   "execution_count": 17,
   "metadata": {
    "scrolled": true
   },
   "outputs": [
    {
     "name": "stdout",
     "output_type": "stream",
     "text": [
      "hello world\n"
     ]
    }
   ],
   "source": [
    "# We can store text data (called strings) in variables as well:\n",
    "message = 'hello world'\n",
    "print(message)\n",
    "# note that we have to include the single quote ' before and after the text. \n",
    "# We use the apostrophe key, but call it a single quote when programming. \n",
    "# what happens if you don't include the single quotes? \n",
    "\n",
    "# comment on what happens"
   ]
  },
  {
   "cell_type": "markdown",
   "metadata": {},
   "source": [
    "Exercise for Submission Quiz Questions 5 & 6:"
   ]
  },
  {
   "cell_type": "code",
   "execution_count": 5,
   "metadata": {},
   "outputs": [
    {
     "name": "stdout",
     "output_type": "stream",
     "text": [
      "JonMagaña\n"
     ]
    }
   ],
   "source": [
    "# Based on the examples in this assignment:\n",
    "# store your first name in a variable named first\n",
    "# store you last name in a variable named last\n",
    "# and print the result of first + last using this code: print(first + last)\n",
    "# are there any issues? How would you fix it to be more readable?\n",
    "\n",
    "# your code\n",
    "\n",
    "# comment on how to fix it to be more readable "
   ]
  },
  {
   "cell_type": "markdown",
   "metadata": {},
   "source": [
    "Adapted under MIT License (https://opensource.org/licenses/MIT) from material found at http://python.berkeley.edu/learn/"
   ]
  }
 ],
 "metadata": {
  "kernelspec": {
   "display_name": "Python 3 (ipykernel)",
   "language": "python",
   "name": "python3"
  },
  "language_info": {
   "codemirror_mode": {
    "name": "ipython",
    "version": 3
   },
   "file_extension": ".py",
   "mimetype": "text/x-python",
   "name": "python",
   "nbconvert_exporter": "python",
   "pygments_lexer": "ipython3",
   "version": "3.9.7"
  }
 },
 "nbformat": 4,
 "nbformat_minor": 1
}
