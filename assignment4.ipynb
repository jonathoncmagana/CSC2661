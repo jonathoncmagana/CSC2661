{
 "cells": [
  {
   "cell_type": "markdown",
   "metadata": {},
   "source": [
    "#### Assignment 4"
   ]
  },
  {
   "cell_type": "markdown",
   "metadata": {},
   "source": [
    "For this assignment, we will again consider the Module 4 average calculation example, and then modify it become code that subtracts several purchases from a bank balance, and outputs the final balance."
   ]
  },
  {
   "cell_type": "markdown",
   "metadata": {},
   "source": [
    "First, recall the example code that calculates an average:              "
   ]
  },
  {
   "cell_type": "code",
   "execution_count": 27,
   "metadata": {
    "scrolled": true
   },
   "outputs": [
    {
     "name": "stdout",
     "output_type": "stream",
     "text": [
      "Here is the sum of all the scores: \n",
      "300\n",
      "and here is the average: \n",
      "75.0\n"
     ]
    }
   ],
   "source": [
    "scores = [90, 80, 60, 70]\n",
    "sumOfScores = 0\n",
    "for y in scores:\n",
    "    sumOfScores = sumOfScores + y\n",
    "\n",
    "print(\"Here is the sum of all the scores: \")\n",
    "print(sumOfScores)\n",
    "average = sumOfScores/len(scores)\n",
    "print(\"and here is the average: \")\n",
    "print(average)"
   ]
  },
  {
   "cell_type": "markdown",
   "metadata": {},
   "source": [
    "The code in the example above has all the pieces and functionality we need to write code that subtracts purchases from a bank balance and outputs the final balance at the end. Let's consider the general outline/changes to the example code that will acomplish this:"
   ]
  },
  {
   "cell_type": "raw",
   "metadata": {},
   "source": [
    "Here is an outline to get us started. Note the ??? indicate something you need to change to make the code owrk correctly. \n",
    "\n",
    "# note this code doesn't work yet, you need to make changes\n",
    "purchases = \"???\" # we need to store some purchases as a list of numbers\n",
    "balance = \"???\" # we need to store an intial bank balance\n",
    "\n",
    "# instead of addng scores together, we need this code to subtract each\n",
    "# purchase from the bank balance\n",
    "# note this code doesn't work yet, you need to make changes\n",
    "for p in \"???\":\n",
    "    ??? = ??? - ???\n",
    "\n",
    "print(\"Here is the final balance: \")\n",
    "print(balance)\n"
   ]
  },
  {
   "cell_type": "markdown",
   "metadata": {},
   "source": [
    "Let's state a couple of requirements: \n",
    "* The bank balance  starts at 1000\n",
    "* There are 5 purchases in the amounts of 100, 50, 200, 10, and 5\n",
    "* You must store these purchase amounts in a list\n",
    "* You must use a for loop to visit each purchase in the list, and subtract it off of the bank balance\n",
    "* You must output the final balance at the end (this is already being done in the outline of a solution above)"
   ]
  },
  {
   "cell_type": "code",
   "execution_count": 1,
   "metadata": {},
   "outputs": [
    {
     "name": "stdout",
     "output_type": "stream",
     "text": [
      "Object `? = ??? - ???` not found.\n",
      "Object `? = ??? - ???` not found.\n",
      "Object `? = ??? - ???` not found.\n",
      "Here is the final balance: \n",
      "???\n"
     ]
    }
   ],
   "source": [
    "# note this code doesn't work yet, you need to make changes\n",
    "purchases = \"???\" # we need to store some purchases as a list of numbers\n",
    "balance = \"???\" # we need to store an intial bank balance\n",
    "\n",
    "# instead of addng scores together, we need this code to subtract each\n",
    "# purchase from the bank balance\n",
    "# note this code doesn't work yet, you need to make changes\n",
    "for p in \"???\":\n",
    "    ??? = ??? - ???\n",
    "\n",
    "print(\"Here is the final balance: \")\n",
    "print(balance)\n"
   ]
  },
  {
   "cell_type": "code",
   "execution_count": null,
   "metadata": {},
   "outputs": [],
   "source": []
  },
  {
   "cell_type": "code",
   "execution_count": null,
   "metadata": {},
   "outputs": [],
   "source": []
  }
 ],
 "metadata": {
  "kernelspec": {
   "display_name": "Python 3 (ipykernel)",
   "language": "python",
   "name": "python3"
  },
  "language_info": {
   "codemirror_mode": {
    "name": "ipython",
    "version": 3
   },
   "file_extension": ".py",
   "mimetype": "text/x-python",
   "name": "python",
   "nbconvert_exporter": "python",
   "pygments_lexer": "ipython3",
   "version": "3.9.12"
  }
 },
 "nbformat": 4,
 "nbformat_minor": 1
}
