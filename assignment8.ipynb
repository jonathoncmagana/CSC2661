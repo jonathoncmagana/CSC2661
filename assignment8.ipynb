{
 "cells": [
  {
   "cell_type": "markdown",
   "metadata": {},
   "source": [
    "###  Assignment 8\n",
    "\n",
    "For the assignment, we will be modifying the code we wrote in module 6 to use values loaded in from a csv file to calculate and output car ranges.\n"
   ]
  },
  {
   "cell_type": "markdown",
   "metadata": {},
   "source": [
    "Let's start with the function code we worked on in module 7 that gets an int from the user."
   ]
  },
  {
   "cell_type": "code",
   "execution_count": 1,
   "metadata": {},
   "outputs": [
    {
     "name": "stdout",
     "output_type": "stream",
     "text": [
      "Please enter number of Cars: 1\n",
      "enter car name 1: 1\n",
      "enter MPG for 1: 1\n",
      "enter tank size for 1: 1\n",
      "Car is named 1 has a max range of 1\n"
     ]
    }
   ],
   "source": [
    "# Recall our module 6 code\n",
    "\n",
    "numCars = int(input(\"Please enter number of Cars: \"))\n",
    "\n",
    "# lets create the 3 list variables first\n",
    "carNames = [] # recall the [] helps create an empty list\n",
    "carMPGs = []\n",
    "carTankSizes = []\n",
    "\n",
    "# then to fill each list, we use a for loop with a message\n",
    "# note that you'll need to run the code in the cell above\n",
    "# to make sure numCars has a value, otherwise you get an error\n",
    "for i in range(0,numCars):\n",
    "    message = \"enter car name \" + str(i + 1) + \": \"\n",
    "    carNames.append(input(message)) \n",
    "\n",
    "for i in range(0,numCars):\n",
    "    message = \"enter MPG for \" + carNames[i] + \": \"\n",
    "    carMPGs.append(int(input(message))) \n",
    "\n",
    "for i in range(0,numCars):\n",
    "    message = \"enter tank size for \" + carNames[i] + \": \"\n",
    "    carTankSizes.append(int(input(message)))\n",
    "    \n",
    "# print out a cars name followed by the car's max range\n",
    "\n",
    "for i in range(0, numCars):\n",
    "    carRange = carMPGs[i]*carTankSizes[i]\n",
    "    message = \"Car is named \" + carNames[i] \\\n",
    "    + \" has a max range of \" + str(carRange)\n",
    "    print(message)\n"
   ]
  },
  {
   "cell_type": "code",
   "execution_count": 4,
   "metadata": {},
   "outputs": [
    {
     "name": "stdout",
     "output_type": "stream",
     "text": [
      "HiMom\n",
      "200\n",
      "10\n"
     ]
    }
   ],
   "source": [
    "#recall also the code we used in this module to load a csv file\n",
    "import pandas as pand\n",
    "\n",
    "data = pand.read_csv('data1.csv')\n",
    "\n",
    "# and how we accessed values from that data variable\n",
    "print(data['Name'][9])\n",
    "print(data['MPG'][9]*data['Tank'][9])\n",
    "\n",
    "#we can see how many rows are in the Dataframe using\n",
    "print(len(data['Name']))"
   ]
  },
  {
   "cell_type": "markdown",
   "metadata": {},
   "source": [
    "__TIP:__ To run the code in a cell quickly, press Ctrl-Enter. Or click the Run button above."
   ]
  },
  {
   "cell_type": "markdown",
   "metadata": {},
   "source": [
    "Modify that code above to load all the values from a csv named data.csv\n",
    "You can use the data.csv file we worked with in Module 8.\n"
   ]
  },
  {
   "cell_type": "code",
   "execution_count": 2,
   "metadata": {},
   "outputs": [],
   "source": [
    "# copy the code in the cell above, and modify it to load all \n",
    "# the data needed from data.csv\n",
    "# you should not need to get any input from the user\n",
    "\n",
    "#Challenge: try to use only 1 for loop\n"
   ]
  },
  {
   "cell_type": "markdown",
   "metadata": {},
   "source": []
  }
 ],
 "metadata": {
  "kernelspec": {
   "display_name": "Python 3 (ipykernel)",
   "language": "python",
   "name": "python3"
  },
  "language_info": {
   "codemirror_mode": {
    "name": "ipython",
    "version": 3
   },
   "file_extension": ".py",
   "mimetype": "text/x-python",
   "name": "python",
   "nbconvert_exporter": "python",
   "pygments_lexer": "ipython3",
   "version": "3.9.12"
  }
 },
 "nbformat": 4,
 "nbformat_minor": 1
}
