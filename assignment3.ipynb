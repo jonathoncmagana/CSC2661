{
 "cells": [
  {
   "cell_type": "markdown",
   "metadata": {},
   "source": [
    "### Assignment 3"
   ]
  },
  {
   "cell_type": "markdown",
   "metadata": {},
   "source": [
    "# 1. if/else \n"
   ]
  },
  {
   "cell_type": "markdown",
   "metadata": {},
   "source": [
    "The following cells can be used to answer the Assignment 2 Submission Quiz, questions 1-4:"
   ]
  },
  {
   "cell_type": "code",
   "execution_count": 3,
   "metadata": {
    "scrolled": true
   },
   "outputs": [
    {
     "name": "stdout",
     "output_type": "stream",
     "text": [
      "Enter a number: 4\n",
      "4\n",
      "<class 'int'>\n"
     ]
    }
   ],
   "source": [
    "# Recall we can get input from the user and convert it to an int using code like this:\n",
    "\n",
    "y=int(input(\"Enter a number: \"))\n",
    "print(y)\n",
    "print(type(y))\n"
   ]
  },
  {
   "cell_type": "code",
   "execution_count": null,
   "metadata": {
    "scrolled": true
   },
   "outputs": [],
   "source": [
    "# Questions 1 and 2\n",
    "# create an if/else that asks the user for their age\n",
    "# (careful with ints and strings here)\n",
    "# and displays \"You can vote!\" if they are 18 or older\n",
    "# OR \"You cannot vote yet\" is they are under 18 (voting age)\n",
    "\n"
   ]
  },
  {
   "cell_type": "code",
   "execution_count": null,
   "metadata": {},
   "outputs": [],
   "source": [
    "# Question 3\n",
    "# what happens when you type in text and it tries to convert to int\n",
    "\n",
    "# try type some text, like \"hello\" when you run this code. What happens?\n",
    "y=int(input(\"Enter a number: \"))\n",
    "print(y)\n",
    "print(type(y))\n"
   ]
  },
  {
   "cell_type": "code",
   "execution_count": null,
   "metadata": {},
   "outputs": [],
   "source": [
    "# Question 4\n",
    "# create question/answer that askes the user \"How many states in the USA?\"\n",
    "# then check to see if that word equals \"50\" (careful with ints and strings here)\n",
    "# and prints out the message \"Correct!\" if they enter 50\n",
    "# or else prints out \"Incorrect!\"\n"
   ]
  },
  {
   "cell_type": "markdown",
   "metadata": {},
   "source": [
    "## 2. if/elif/elif...else\n",
    "\n"
   ]
  },
  {
   "cell_type": "markdown",
   "metadata": {},
   "source": [
    "The following cells can be used to answer the Assignment 2 Submission Quiz, questions 5-6:"
   ]
  },
  {
   "cell_type": "code",
   "execution_count": 9,
   "metadata": {},
   "outputs": [
    {
     "name": "stdout",
     "output_type": "stream",
     "text": [
      "5\n",
      "6\n",
      "8\n",
      "0.6666666666666666\n"
     ]
    }
   ],
   "source": [
    "#Question 5-6\n",
    "# create if/elif...else for age-based messages\n",
    "# ask the user for their age (can potentially re-use code from questions 1 and 2 above)\n",
    "# if the user is less than 13 years old, print out \"You are a kid!\"\n",
    "# if the user is >=13 (but less than 20) print out \"You are a teenager!\"\n",
    "# if the user is >= 20 print out \"You are a grownup!\"\n",
    "\n"
   ]
  }
 ],
 "metadata": {
  "kernelspec": {
   "display_name": "Python 3 (ipykernel)",
   "language": "python",
   "name": "python3"
  },
  "language_info": {
   "codemirror_mode": {
    "name": "ipython",
    "version": 3
   },
   "file_extension": ".py",
   "mimetype": "text/x-python",
   "name": "python",
   "nbconvert_exporter": "python",
   "pygments_lexer": "ipython3",
   "version": "3.9.12"
  }
 },
 "nbformat": 4,
 "nbformat_minor": 1
}
