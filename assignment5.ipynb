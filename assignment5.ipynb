{
 "cells": [
  {
   "cell_type": "markdown",
   "metadata": {},
   "source": [
    "##### Assignment 5"
   ]
  },
  {
   "cell_type": "markdown",
   "metadata": {},
   "source": [
    "For this assignment, we build on what we learned in Module 5 expand the functionality of our Module 4 bank account assignment. Our Assignment 5 program will:\n",
    "* get bank balance from user\n",
    "* asks how many purchases\n",
    "* gets purchase amounts\n",
    "* then subtracts purchases from a bank balance\n",
    "* and prints the final balance (except it prints an error message along the way if you go negative)"
   ]
  },
  {
   "cell_type": "code",
   "execution_count": null,
   "metadata": {
    "collapsed": true
   },
   "outputs": [],
   "source": []
  },
  {
   "cell_type": "markdown",
   "metadata": {},
   "source": [
    "Recall assignment 4:              "
   ]
  },
  {
   "cell_type": "code",
   "execution_count": 1,
   "metadata": {
    "scrolled": true
   },
   "outputs": [
    {
     "name": "stdout",
     "output_type": "stream",
     "text": [
      "Here is the final balance: \n",
      "635\n"
     ]
    }
   ],
   "source": [
    "# Our assignment 4 code looked something like this:\n",
    "\n",
    "purchases = [100, 50, 200, 10, 5] # list of purchases \n",
    "balance =  1000 # starting balance\n",
    "\n",
    "# code to subtract each\n",
    "# purchase from the bank balance\n",
    "\n",
    "for p in purchases:\n",
    "    balance = balance - p\n",
    "\n",
    "print(\"Here is the final balance: \")\n",
    "print(balance)\n"
   ]
  },
  {
   "cell_type": "markdown",
   "metadata": {},
   "source": [
    "We can use the code above as a starting place for the changes we want to make. Let's consider the general outline/changes to the Assignment 4 code that will acomplish our new requirements for Assignment 5:"
   ]
  },
  {
   "cell_type": "raw",
   "metadata": {},
   "source": [
    "Here is an outline to get us started. Note the ??? indicate something you need to change to make the code owrk correctly. \n",
    "\n",
    "# note this code doesn't work yet, you need to make changes\n",
    "\n",
    "purchases = \"???\" # we need to initialize our list of purchases as an empty list\n",
    "# and then we need to ask the user how many purchases \n",
    "# and use a for loop to get each purchase amount from the user\n",
    "balance =  \"???\" # we need to ask the user for a starting balance\n",
    "\n",
    "# code to subtract each\n",
    "# purchase from the bank balance\n",
    "\n",
    "for p in purchases:\n",
    "    balance = balance – p\n",
    "    # we need to add a nested if statement check for negative balance \n",
    "    # (indented to run each time the loop runs)\n",
    "\tprint(\"Your balance went negative\")\n",
    "\n",
    "print(\"Here is the final balance: \")\n",
    "print(balance)\n"
   ]
  },
  {
   "cell_type": "markdown",
   "metadata": {},
   "source": [
    "Let's state a couple of requirements: \n",
    "* get bank balance from user\n",
    "* asks how many purchases\n",
    "* gets purchase amounts\n",
    "* then subtracts purchases from a bank balance\n",
    "* and prints the final balance \n",
    "* it also prints an error message along the way if you go negative - *as an optional challenge, can you tell the user which particular purchase (amount) caused them to go negative?*"
   ]
  },
  {
   "cell_type": "code",
   "execution_count": 3,
   "metadata": {
    "scrolled": true
   },
   "outputs": [
    {
     "ename": "TabError",
     "evalue": "inconsistent use of tabs and spaces in indentation (3451324776.py, line 14)",
     "output_type": "error",
     "traceback": [
      "\u001b[1;36m  Input \u001b[1;32mIn [3]\u001b[1;36m\u001b[0m\n\u001b[1;33m    print(\"Your balance went negative\")\u001b[0m\n\u001b[1;37m    ^\u001b[0m\n\u001b[1;31mTabError\u001b[0m\u001b[1;31m:\u001b[0m inconsistent use of tabs and spaces in indentation\n"
     ]
    }
   ],
   "source": [
    "# note this code doesn't work yet, you need to make changes\n",
    "purchases = \"???\" # we need to initialize our list of purchases as an empty list\n",
    "# and then we need to ask the user how many purchases \n",
    "# and use a for loop to get each purchase amount from the user\n",
    "balance =  \"???\" # we need to ask the user for a starting balance\n",
    "\n",
    "# code to subtract each\n",
    "# purchase from the bank balance\n",
    "\n",
    "for p in purchases:\n",
    "    balance = balance - p\n",
    "    # we need to add a nested if statement check for negative balance \n",
    "    # (indented to run each time the loop runs)\n",
    "        print(\"Your balance went negative\")\n",
    "        # optional challenge, can you tell the user which \n",
    "        # particular purchase (amount) caused them to go negative?\n",
    "\n",
    "print(\"Here is the final balance: \")\n",
    "print(balance)\n"
   ]
  },
  {
   "cell_type": "markdown",
   "metadata": {},
   "source": []
  },
  {
   "cell_type": "code",
   "execution_count": null,
   "metadata": {},
   "outputs": [],
   "source": []
  },
  {
   "cell_type": "code",
   "execution_count": null,
   "metadata": {},
   "outputs": [],
   "source": []
  },
  {
   "cell_type": "code",
   "execution_count": null,
   "metadata": {},
   "outputs": [],
   "source": []
  }
 ],
 "metadata": {
  "kernelspec": {
   "display_name": "Python 3 (ipykernel)",
   "language": "python",
   "name": "python3"
  },
  "language_info": {
   "codemirror_mode": {
    "name": "ipython",
    "version": 3
   },
   "file_extension": ".py",
   "mimetype": "text/x-python",
   "name": "python",
   "nbconvert_exporter": "python",
   "pygments_lexer": "ipython3",
   "version": "3.9.12"
  }
 },
 "nbformat": 4,
 "nbformat_minor": 1
}
