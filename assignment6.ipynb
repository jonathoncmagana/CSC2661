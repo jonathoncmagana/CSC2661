{
 "cells": [
  {
   "cell_type": "markdown",
   "metadata": {},
   "source": [
    "###  Assignment 6\n",
    "\n",
    "We can build on the example in module 6 to also ask the user for the distance in miles for an upcoming trip, and then tell them how many tanks of gas each car will require to make it. "
   ]
  },
  {
   "cell_type": "markdown",
   "metadata": {},
   "source": [
    "Let's start with the complete code we worked on in module 6. Recall we wrote a program that asks the user how many cars they have, a name for each car, and the gas milage of each car, and the size of its gas tank. The program then printed out the max range of each car on a full tank. \n"
   ]
  },
  {
   "cell_type": "code",
   "execution_count": 3,
   "metadata": {},
   "outputs": [
    {
     "name": "stdout",
     "output_type": "stream",
     "text": [
      "Please enter number of Cars: 2\n",
      "enter car name 1: First Car\n",
      "enter car name 2: Second Car\n",
      "enter MPG for First Car: 10\n",
      "enter MPG for Second Car: 20\n",
      "enter tank size for First Car: 15\n",
      "enter tank size for Second Car: 25\n",
      "Car is named First Car has a max range of 150\n",
      "Car is named Second Car has a max range of 500\n"
     ]
    }
   ],
   "source": [
    "# the first requirement: \n",
    "# ask user for number of cars and \n",
    "# store the result in a variable named numCars\n",
    "\n",
    "numCars = int(input(\"Please enter number of Cars: \"))\n",
    "\n",
    "# The second requirement\n",
    "# ask user for the name, mpg, and fuel tank capacity\n",
    "# for each car (store that information in lists \n",
    "# named carNames, carMPGs, and carTankSizes)\n",
    "\n",
    "# building on past examples we know how to do this\n",
    "# but here we are filling 3 lists, so it is a lot of code\n",
    "\n",
    "# lets create the 3 list variables first\n",
    "carNames = [] # recall the [] helps create an empty list\n",
    "carMPGs = []\n",
    "carTankSizes = []\n",
    "\n",
    "# then to fill each list, we use a for loop with a message\n",
    "# note that you'll need to run the code in the cell above\n",
    "# to make sure numCars has a value, otherwise you get an error\n",
    "for i in range(0,numCars):\n",
    "    message = \"enter car name \" + str(i + 1) + \": \"\n",
    "    carNames.append(input(message)) \n",
    "    \n",
    "# why would I want to use str(i + 1) instead of str(i)?\n",
    "\n",
    "for i in range(0,numCars):\n",
    "    message = \"enter MPG for \" + carNames[i] + \": \"\n",
    "    carMPGs.append(int(input(message))) \n",
    "    \n",
    "# why did I use carNames[i] when making the message?\n",
    "# why did I use int(input(message)) when for the previous\n",
    "# input I used just input(message)?\n",
    "\n",
    "for i in range(0,numCars):\n",
    "    message = \"enter tank size for \" + carNames[i] + \": \"\n",
    "    carTankSizes.append(int(input(message)))\n",
    "    \n",
    "# print out a cars name followed by the car's max range\n",
    "\n",
    "for i in range(0, numCars):\n",
    "    carRange = carMPGs[i]*carTankSizes[i]\n",
    "    message = \"Car is named \" + carNames[i] \\\n",
    "    + \" has a max range of \" + str(carRange)\n",
    "    print(message)\n"
   ]
  },
  {
   "cell_type": "markdown",
   "metadata": {},
   "source": [
    "__TIP:__ To run the code in a cell quickly, press Ctrl-Enter. Or click the Run button above."
   ]
  },
  {
   "cell_type": "markdown",
   "metadata": {},
   "source": [
    "Let's add to that code to fulfil the two requirements for this assignment:\n",
    "* ask the user for the distance in miles for an upcoming trip, \n",
    "* and then tell them how many tanks of gas each car will require to make it. "
   ]
  },
  {
   "cell_type": "code",
   "execution_count": 6,
   "metadata": {},
   "outputs": [
    {
     "name": "stdout",
     "output_type": "stream",
     "text": [
      "Please enter number of Cars: 1\n",
      "enter car name 1: 1\n",
      "enter MPG for 1: 1\n",
      "enter tank size for 1: 1\n",
      "Car is named 1 has a max range of 1\n"
     ]
    }
   ],
   "source": [
    "# We start with the same code, \n",
    "# so you can skip to the end to add code for this assignment\n",
    "\n",
    "numCars = int(input(\"Please enter number of Cars: \"))\n",
    "\n",
    "# create the 3 list variables first\n",
    "carNames = [] # recall the [] helps create an empty list\n",
    "carMPGs = []\n",
    "carTankSizes = []\n",
    "\n",
    "# then to fill each list, we use a for loop with a message\n",
    "# note that you'll need to run the code in the cell above\n",
    "# to make sure numCars has a value, otherwise you get an error\n",
    "for i in range(0,numCars):\n",
    "    message = \"enter car name \" + str(i + 1) + \": \"\n",
    "    carNames.append(input(message)) \n",
    "\n",
    "for i in range(0,numCars):\n",
    "    message = \"enter MPG for \" + carNames[i] + \": \"\n",
    "    carMPGs.append(int(input(message))) \n",
    "\n",
    "for i in range(0,numCars):\n",
    "    message = \"enter tank size for \" + carNames[i] + \": \"\n",
    "    carTankSizes.append(int(input(message)))\n",
    "    \n",
    "# print out a cars name followed by the car's max range\n",
    "for i in range(0, numCars):\n",
    "    carRange = carMPGs[i]*carTankSizes[i]\n",
    "    message = \"Car is named \" + carNames[i] \\\n",
    "    + \" has a max range of \" + str(carRange)\n",
    "    print(message)\n",
    "    \n",
    "# ADD YOUR ASSIGNMENT CODE STARTING HERE\n"
   ]
  },
  {
   "cell_type": "markdown",
   "metadata": {},
   "source": []
  }
 ],
 "metadata": {
  "kernelspec": {
   "display_name": "Python 3 (ipykernel)",
   "language": "python",
   "name": "python3"
  },
  "language_info": {
   "codemirror_mode": {
    "name": "ipython",
    "version": 3
   },
   "file_extension": ".py",
   "mimetype": "text/x-python",
   "name": "python",
   "nbconvert_exporter": "python",
   "pygments_lexer": "ipython3",
   "version": "3.9.12"
  }
 },
 "nbformat": 4,
 "nbformat_minor": 1
}
