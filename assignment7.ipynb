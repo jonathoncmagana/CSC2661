{
 "cells": [
  {
   "cell_type": "markdown",
   "metadata": {},
   "source": [
    "###  Assignment 7\n",
    "\n",
    "For the assignment, we will be writing a method that results a list filled up with ints, which is something we have needed to do many times in past modules. We will use this function twice and then graph the results as a scatter plot with matplotlib\n"
   ]
  },
  {
   "cell_type": "markdown",
   "metadata": {},
   "source": [
    "Let's start with the function code we worked on in module 7 that gets an int from the user."
   ]
  },
  {
   "cell_type": "code",
   "execution_count": 7,
   "metadata": {},
   "outputs": [
    {
     "name": "stdout",
     "output_type": "stream",
     "text": [
      "Please enter how many numbers: 3\n",
      "enter number name 1: 2\n",
      "enter number name 2: 3\n",
      "enter number name 3: 4\n"
     ]
    }
   ],
   "source": [
    "# getIntFromUser function code from module 7\n",
    "\n",
    "def getIntFromUser(message):\n",
    "    result = int(input(message))\n",
    "    return result\n",
    "\n",
    "# also recall that when we fill up a list with ints, like in module 6,\n",
    "# the code looked something like this:\n",
    "howManyNumbers = int(input(\"Please enter how many numbers: \"))\n",
    "listOfNumbers = []\n",
    "\n",
    "# then to fill each list, we use a for loop with a message\n",
    "for i in range(0,howManyNumbers):\n",
    "    message = \"enter number name \" + str(i + 1) + \": \"\n",
    "    listOfNumbers.append(input(message)) \n"
   ]
  },
  {
   "cell_type": "markdown",
   "metadata": {},
   "source": [
    "__TIP:__ To run the code in a cell quickly, press Ctrl-Enter. Or click the Run button above."
   ]
  },
  {
   "cell_type": "markdown",
   "metadata": {},
   "source": [
    "Finish the code below that combines those two ideas into 1 function that has a function definition line that looks like this:\n",
    "\n",
    "def getListOfNumbersFromUser():\n",
    "\n",
    "Notice we do not need to specify a message if the function will ask the user how many numbers, and then create its own message asking for each individual number. You function should return a list of numbers\n"
   ]
  },
  {
   "cell_type": "code",
   "execution_count": 9,
   "metadata": {},
   "outputs": [],
   "source": [
    "# finish the function code, it should return a list of numbers\n",
    "\n",
    "def getListOfNumbersFromUser():\n",
    "    # ADD YOUR ASSIGNMENT CODE STARTING HERE\n",
    "\n",
    "    \n",
    "    \n",
    "    #make sure to leave this as the last line\n",
    "    return listOfNumbers\n",
    "\n"
   ]
  },
  {
   "cell_type": "code",
   "execution_count": 11,
   "metadata": {},
   "outputs": [
    {
     "data": {
      "image/png": "[encoded data removed]",
      "text/plain": [
       "<Figure size 432x288 with 1 Axes>"
      ]
     },
     "metadata": {
      "needs_background": "light"
     },
     "output_type": "display_data"
    }
   ],
   "source": [
    "# You should NOT make any changes to this code:\n",
    "# after you have successful coded \n",
    "# and run your function in the previous cell,\n",
    "# the following code should run and graph a scatterplot,\n",
    "# as long as both lists of ints are the same length\n",
    "import matplotlib.pyplot as plt\n",
    "import numpy\n",
    "\n",
    "listOne = getListOfNumbersFromUser()\n",
    "listTwo = getListOfNumbersFromUser()\n",
    "\n",
    "if(len(listOne) == len(listTwo)):\n",
    "    x = numpy.array(listOne)\n",
    "    y = numpy.array(listTwo)\n",
    "\n",
    "    plt.scatter(x, y)\n",
    "    plt.show()\n",
    "else:\n",
    "    print(\"This list were not the same size\")\n"
   ]
  },
  {
   "cell_type": "markdown",
   "metadata": {},
   "source": []
  }
 ],
 "metadata": {
  "kernelspec": {
   "display_name": "Python 3 (ipykernel)",
   "language": "python",
   "name": "python3"
  },
  "language_info": {
   "codemirror_mode": {
    "name": "ipython",
    "version": 3
   },
   "file_extension": ".py",
   "mimetype": "text/x-python",
   "name": "python",
   "nbconvert_exporter": "python",
   "pygments_lexer": "ipython3",
   "version": "3.9.12"
  }
 },
 "nbformat": 4,
 "nbformat_minor": 1
}
