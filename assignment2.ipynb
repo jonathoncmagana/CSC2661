{
 "cells": [
  {
   "cell_type": "markdown",
   "metadata": {},
   "source": [
    "# Assignment 2"
   ]
  },
  {
   "cell_type": "markdown",
   "metadata": {},
   "source": [
    "# 1. Boolean Expressions \n"
   ]
  },
  {
   "cell_type": "markdown",
   "metadata": {},
   "source": [
    "The following cells can be used to answer the Assignment 2 Submission Quiz, questions 1-4:"
   ]
  },
  {
   "cell_type": "code",
   "execution_count": 1,
   "metadata": {
    "scrolled": true
   },
   "outputs": [
    {
     "name": "stdout",
     "output_type": "stream",
     "text": [
      "True\n"
     ]
    }
   ],
   "source": [
    "# We can check whether Boolean expressions are True or False by print them out:\n",
    "y=-2\n",
    "print(y<2)\n"
   ]
  },
  {
   "cell_type": "code",
   "execution_count": 2,
   "metadata": {
    "scrolled": true
   },
   "outputs": [
    {
     "name": "stdout",
     "output_type": "stream",
     "text": [
      "False\n"
     ]
    }
   ],
   "source": [
    "# Question 1\n",
    "# Write a boolean express to check if x is greater than 10\n",
    "\n",
    "x = 7\n",
    "#write code here that prints out True or False based on checking if x is greater tan 10\n",
    "\n",
    "#answer\n",
    "print(x>10)"
   ]
  },
  {
   "cell_type": "code",
   "execution_count": 5,
   "metadata": {},
   "outputs": [
    {
     "name": "stdout",
     "output_type": "stream",
     "text": [
      "True\n"
     ]
    }
   ],
   "source": [
    "# Question 2\n",
    "# write a boolean condition to check if name is equal to \"Jon\"\n",
    "\n",
    "name = \"Jon\"\n",
    "#write code here that prints out True or False based on checking if name is equal to \"Jon\"\n",
    "\n",
    "#answer\n",
    "print(name==\"Jon\")\n"
   ]
  },
  {
   "cell_type": "code",
   "execution_count": 6,
   "metadata": {},
   "outputs": [
    {
     "name": "stdout",
     "output_type": "stream",
     "text": [
      "True\n"
     ]
    }
   ],
   "source": [
    "# Question 3\n",
    "# write a boolean condition to check if z is not equal to 3\n",
    "\n",
    "z = 1\n",
    "#write code here that prints out True or False based on checking if z is note equal to 3\n",
    "\n",
    "#answer\n",
    "print(z!=3)\n"
   ]
  },
  {
   "cell_type": "code",
   "execution_count": 7,
   "metadata": {},
   "outputs": [
    {
     "name": "stdout",
     "output_type": "stream",
     "text": [
      "True\n"
     ]
    }
   ],
   "source": [
    "# Question 4\n",
    "# write a boolean condition to check if a is greater than or equal to b\n",
    "\n",
    "a = 0\n",
    "b = -2\n",
    "#write code here that prints out True or False based on checking if a is greater than or equal to b\n",
    "\n",
    "#answer\n",
    "print(a>=b)"
   ]
  },
  {
   "cell_type": "markdown",
   "metadata": {},
   "source": [
    "## 2. If Statements\n",
    "\n"
   ]
  },
  {
   "cell_type": "markdown",
   "metadata": {},
   "source": [
    "The following cells can be used to answer the Assignment 2 Submission Quiz, questions 5-7:"
   ]
  },
  {
   "cell_type": "code",
   "execution_count": 9,
   "metadata": {},
   "outputs": [
    {
     "name": "stdout",
     "output_type": "stream",
     "text": [
      "5\n",
      "6\n",
      "8\n",
      "0.6666666666666666\n"
     ]
    }
   ],
   "source": [
    "#Question 5\n",
    "#write an if statement that prints a message if age > 20\n",
    "age=22\n",
    "\n",
    "#write your code here that prints out \"You are older than 20!\" if age > 20\n",
    "\n",
    "#answer \n",
    "if(age>20):\n",
    "    print(\"You are older than 20!\")\n"
   ]
  },
  {
   "cell_type": "code",
   "execution_count": 9,
   "metadata": {},
   "outputs": [
    {
     "name": "stdout",
     "output_type": "stream",
     "text": [
      "all done\n"
     ]
    }
   ],
   "source": [
    "#Question 6\n",
    "#write an if statement that prints a message name is equal to \"Jim\"\n",
    "name=\"Van\"\n",
    "\n",
    "#write your code here that prints out \"We are both named Jim!\"\" if name is equal to \"Jim\"\n",
    "\n",
    "#answer \n",
    "if(name==\"Jim\"):\n",
    "    print(\"We are both named Jim!\")\n",
    "print(\"all done\")"
   ]
  }
 ],
 "metadata": {
  "kernelspec": {
   "display_name": "Python 3 (ipykernel)",
   "language": "python",
   "name": "python3"
  },
  "language_info": {
   "codemirror_mode": {
    "name": "ipython",
    "version": 3
   },
   "file_extension": ".py",
   "mimetype": "text/x-python",
   "name": "python",
   "nbconvert_exporter": "python",
   "pygments_lexer": "ipython3",
   "version": "3.9.12"
  }
 },
 "nbformat": 4,
 "nbformat_minor": 1
}
